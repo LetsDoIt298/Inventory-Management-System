{
  "nbformat": 4,
  "nbformat_minor": 0,
  "metadata": {
    "colab": {
      "name": "1/4.ipynb",
      "provenance": [],
      "collapsed_sections": []
    },
    "kernelspec": {
      "name": "python3",
      "display_name": "Python 3"
    },
    "language_info": {
      "name": "python"
    }
  },
  "cells": [
    {
      "cell_type": "markdown",
      "metadata": {
        "id": "OrDb-tmVl8EP"
      },
      "source": [
        "This program will create a database of our Inventory"
      ]
    },
    {
      "cell_type": "code",
      "metadata": {
        "id": "oraLkhg1l5Uv"
      },
      "source": [
        "shop_items={'Fruits':{ 12357300:{'name':'Apples',    'Prise': 20 , 'Place':'Delhi' , 'Rich_in':'Vitamin C',   'Quantity':70},\n",
        "                       12357301:{'name':'Banana',    'Prise': 20 , 'Place':'Delhi' , 'Rich_in':'Vitamin B',   'Quantity':70},\n",
        "                       12357302:{'name':'Mango',     'Prise': 20 , 'Place':'Delhi' , 'Rich_in':'Vitamin A,C ','Quantity':70},\n",
        "                       12357303:{'name':'Orange',    'Prise': 20 , 'Place':'Delhi' , 'Rich_in':'Vitamin C',   'Quantity':70},\n",
        "                       12357304:{'name':'Grapes',    'Prise': 20 , 'Place':'Delhi' , 'Rich_in':'Vitamin C',   'Quantity':70},\n",
        "                       12357305:{'name':'Lemon',     'Prise': 20 , 'Place':'Delhi' , 'Rich_in':'Vitamin C',   'Quantity':70},\n",
        "                       12357306:{'name':'Pear',      'Prise': 20 , 'Place':'Delhi' , 'Rich_in':'Vitamin C',   'Quantity':70},\n",
        "                       12357307:{'name':'Garlic',    'Prise': 20 , 'Place':'Delhi' , 'Rich_in':'Vitamin C',   'Quantity':70},\n",
        "                       12357308:{'name':'Papaya',    'Prise': 20 , 'Place':'Delhi' , 'Rich_in':'Vitamin C',   'Quantity':70},\n",
        "                       12357309:{'name':'Avocadro',  'Prise': 20 , 'Place':'Delhi' , 'Rich_in':'Vitamin K',   'Quantity':70},           \n",
        "                        },\n",
        "            \n",
        "            'Dairy': { 12357310:{'name':'Milk Full cream', 'Prise': 48 , 'Place':'Delhi' , 'mfd':'20/08/2001', 'Quantity':25},\n",
        "                       12357311:{'name':'Milk Toned',      'Prise': 38 , 'Place':'Delhi' , 'mfd':'20/08/2001', 'Quantity':25},\n",
        "                       12357312:{'name':'Brown Bread',     'Prise': 60 , 'Place':'Delhi' , 'mfd':'20/08/2001', 'Quantity':25},\n",
        "                       12357313:{'name':'White Bread',     'Prise': 50 , 'Place':'Delhi' , 'mfd':'20/08/2001', 'Quantity':25},\n",
        "                       12357314:{'name':'Butter',          'Prise': 75 , 'Place':'Delhi' , 'mfd':'20/08/2001', 'Quantity':25},\n",
        "                       12357315:{'name':'Egg',             'Prise': 20 , 'Place':'Delhi' , 'mfd':'20/08/2001', 'Quantity':25},\n",
        "                       12357316:{'name':'Sour cream',      'Prise': 50 , 'Place':'Delhi' , 'mfd':'20/08/2001', 'Quantity':25},\n",
        "                       12357317:{'name':'Curd',            'Prise': 40 , 'Place':'Delhi' , 'mfd':'20/08/2001', 'Quantity':25},\n",
        "                       12357318:{'name':'Yogurt',          'Prise': 80 , 'Place':'Delhi' , 'mfd':'20/08/2001', 'Quantity':25},\n",
        "                       12357319:{'name':'Creamer',         'Prise': 50 , 'Place':'Delhi' , 'mfd':'20/08/2001', 'Quantity':25},                                  \n",
        "                       }, \n",
        "\n",
        "            'Vegitables': { 12357321:{'name':'Cabbage',     'Prise': 20 , 'Place':'Delhi' , 'Rich_in':'Vitamin C', 'Quantity':70},\n",
        "                            12357322:{'name':'Potato',      'Prise': 20 , 'Place':'Delhi' , 'Rich_in':'Vitamin B', 'Quantity':70},\n",
        "                            12357323:{'name':'Radish',      'Prise': 20 , 'Place':'Delhi' , 'Rich_in':'calcium ',  'Quantity':70},\n",
        "                            12357324:{'name':'Onion',       'Prise': 20 , 'Place':'Delhi' , 'Rich_in':'Vitamin C', 'Quantity':70},\n",
        "                            12357325:{'name':'Tomato',      'Prise': 20 , 'Place':'Delhi' , 'Rich_in':'Vitamin C', 'Quantity':70},\n",
        "                            12357326:{'name':'Pumbkin',     'Prise': 20 , 'Place':'Delhi' , 'Rich_in':'Vitamin C', 'Quantity':70},\n",
        "                            12357327:{'name':'Cauliflower', 'Prise': 20 , 'Place':'Delhi' , 'Rich_in':'Vitamin C', 'Quantity':70},\n",
        "                            12357328:{'name':'Garlic',      'Prise': 20 , 'Place':'Delhi' , 'Rich_in':'Vitamin C', 'Quantity':70},\n",
        "                            12357329:{'name':'Sweet Patato','Prise': 20 , 'Place':'Delhi' , 'Rich_in':'Vitamin C', 'Quantity':70},\n",
        "                            12357330:{'name':'Cucumber',    'Prise': 20 , 'Place':'Delhi' , 'Rich_in':'Vitamin K', 'Quantity':70},           \n",
        "                        }  \n",
        "                     \n",
        "                     \n",
        "                     \n",
        "                     }"
      ],
      "execution_count": null,
      "outputs": []
    },
    {
      "cell_type": "code",
      "metadata": {
        "id": "8GiDT0GtmM2i"
      },
      "source": [
        "import json"
      ],
      "execution_count": null,
      "outputs": []
    },
    {
      "cell_type": "code",
      "metadata": {
        "id": "OCBigJCOmQXQ"
      },
      "source": [
        "js = json.dumps(shop_items)"
      ],
      "execution_count": null,
      "outputs": []
    },
    {
      "cell_type": "code",
      "metadata": {
        "id": "iro-e3kFmSki"
      },
      "source": [
        "fd = open(\"Record.json\",'w')                       \n",
        "fd.write(js)\n",
        "fd.close()"
      ],
      "execution_count": null,
      "outputs": []
    },
    {
      "cell_type": "code",
      "metadata": {
        "id": "WvjoBr3NmU3N"
      },
      "source": [
        ""
      ],
      "execution_count": null,
      "outputs": []
    }
  ]
}