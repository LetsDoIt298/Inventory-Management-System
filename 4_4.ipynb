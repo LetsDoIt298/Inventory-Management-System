{
  "nbformat": 4,
  "nbformat_minor": 0,
  "metadata": {
    "colab": {
      "name": "4/4.ipynb",
      "provenance": [],
      "collapsed_sections": []
    },
    "kernelspec": {
      "name": "python3",
      "display_name": "Python 3"
    },
    "language_info": {
      "name": "python"
    }
  },
  "cells": [
    {
      "cell_type": "markdown",
      "metadata": {
        "id": "zsILHsISrJXA"
      },
      "source": [
        "This will update the remaining products in Inventory"
      ]
    },
    {
      "cell_type": "code",
      "metadata": {
        "id": "pjz3m1CrrHAA"
      },
      "source": [
        "fd = open(\"Record.json\",'r')\n",
        "txt = fd.read()\n",
        "fd.close()"
      ],
      "execution_count": null,
      "outputs": []
    },
    {
      "cell_type": "code",
      "metadata": {
        "id": "2nmvQya3rf0S"
      },
      "source": [
        "import json"
      ],
      "execution_count": null,
      "outputs": []
    },
    {
      "cell_type": "code",
      "metadata": {
        "id": "40gfWYdlrkeH"
      },
      "source": [
        "Record = json.loads(txt)"
      ],
      "execution_count": null,
      "outputs": []
    },
    {
      "cell_type": "code",
      "metadata": {
        "colab": {
          "base_uri": "https://localhost:8080/"
        },
        "id": "L3nuxkmwrql5",
        "outputId": "25f15ec7-08b8-406d-a429-bf262ccf8eee"
      },
      "source": [
        "t=0\n",
        "choice = 'y'\n",
        "while (choice =='y' or choice =='Y'):\n",
        " userIN= input(\"Enter the product ID to update the records\")\n",
        " for i in Record['Fruits']:\n",
        "                          if(userIN == i):\n",
        "                                      print(\"Product present in Fruits\")\n",
        "                                      user_Quan = int(input(\"Enter the number of quatity that is to be added\"))\n",
        "                                      if(user_Quan < 0): \n",
        "                                                         print(\"Kindly enter valid number of products\")\n",
        "                                                         choice=input(\"Do you want to try again ? [y/n]\")\n",
        "                                                         break\n",
        "\n",
        "                                      Final = Record['Fruits'][i]['Quantity'] + user_Quan\n",
        "                                      Record['Fruits'][i]['Quantity'] = Final\n",
        "                                      \n",
        "                                      fd = open(\"Record.json\",'w')\n",
        "                                      js= json.dumps(Record)\n",
        "                                      fd.write(js)\n",
        "                                      fd.close()\n",
        "                                      \n",
        "                                      print(\"Successfully Added\")\n",
        "                                      print(\"Threfore number of\",Record['Fruits'][i]['name'],\"becomes\",Final)                                      \n",
        "                                      break\n",
        "                          else: t=t+1\n",
        "\n",
        " \n",
        " for i in Record['Dairy']:\n",
        "                          if(userIN == i):\n",
        "                                      print(\"Product present in Dairy\")                            \n",
        "                                      user_Quan = int(input(\"Enter the number of quatity that is to be added\"))\n",
        "                                      if(user_Quan < 0): \n",
        "                                                         print(\"Kindly enter valid number of products\")\n",
        "                                                         choice=input(\"Do you want to try again ? [y/n]\")\n",
        "                                                         break\n",
        "\n",
        "                                      Final = Record['Dairy'][i]['Quantity'] + user_Quan\n",
        "                                      Record['Dairy'][i]['Quantity'] = Final\n",
        "                                      \n",
        "                                      fd = open(\"Record.json\",'w')\n",
        "                                      js= json.dumps(Record)\n",
        "                                      fd.write(js)\n",
        "                                      fd.close()\n",
        "                                      \n",
        "                                      print(\"Successfully Added\")\n",
        "                                      print(\"Threfore number of\",Record['Dairy'][i]['name'],\"becomes\",Final)                                      \n",
        "                                      break\n",
        "                          else: t=t+1\n",
        "\n",
        "\n",
        " for i in Record['Vegitables']:                          \n",
        "                          if(userIN == i):\n",
        "                                      print(\"Product present in Vegitables\")                            \n",
        "                                      user_Quan = int(input(\"Enter the number of quatity that is to be added\"))\n",
        "                                      if(user_Quan < 0): \n",
        "                                                         print(\"Kindly enter valid number of products\")\n",
        "                                                         choice=input(\"Do you want to try again ? [y/n]\")\n",
        "                                                         break\n",
        "\n",
        "                                      Final = Record['Vegitables'][i]['Quantity'] + user_Quan\n",
        "                                      Record['Vegitables'][i]['Quantity'] = Final\n",
        "                                      \n",
        "                                      fd = open(\"Record.json\",'w')\n",
        "                                      js= json.dumps(Record)\n",
        "                                      fd.write(js)\n",
        "                                      fd.close()\n",
        "                                      \n",
        "                                      print(\"Successfully Added\")\n",
        "                                      print(\"Threfore number of\",Record['Vegitables'][i]['name'],\"becomes\",Final)                                      \n",
        "                                      break\n",
        "                          else: t=t+1 \n",
        "\n",
        "\n",
        " total = len(Record['Vegitables']) + len(Record['Dairy']) + len(Record['Fruits'])     \n",
        " if(t >= total): print(\"Product ID is wrong\")                                    \n",
        "\n",
        " choice=input(\"Do you want to try again ? [y/n]\")        "
      ],
      "execution_count": null,
      "outputs": [
        {
          "name": "stdout",
          "output_type": "stream",
          "text": [
            "Enter the product ID to update the records12357300\n",
            "Product present in Fruits\n",
            "Enter the number of quatity that is to be added12\n",
            "Successfully Added\n",
            "Threfore number of Apples becomes 193\n",
            "Do you want to try again ? [y/n]y\n",
            "Enter the product ID to update the records12357322\n",
            "Product present in Vegitables\n",
            "Enter the number of quatity that is to be added12\n",
            "Successfully Added\n",
            "Threfore number of Potato becomes 92\n",
            "Product ID is wrong\n",
            "Do you want to try again ? [y/n]y\n",
            "Enter the product ID to update the records12357312\n",
            "Product present in Dairy\n",
            "Enter the number of quatity that is to be added2\n",
            "Successfully Added\n",
            "Threfore number of Brown Bread becomes 67\n",
            "Product ID is wrong\n",
            "Do you want to try again ? [y/n]n\n"
          ]
        }
      ]
    },
    {
      "cell_type": "code",
      "metadata": {
        "id": "qV3JiYeCM9dY"
      },
      "source": [
        "\n"
      ],
      "execution_count": null,
      "outputs": []
    },
    {
      "cell_type": "code",
      "metadata": {
        "id": "PAuCKBzKQSRS"
      },
      "source": [
        ""
      ],
      "execution_count": null,
      "outputs": []
    },
    {
      "cell_type": "code",
      "metadata": {
        "id": "YVhVQdlORXsb"
      },
      "source": [
        ""
      ],
      "execution_count": null,
      "outputs": []
    }
  ]
}