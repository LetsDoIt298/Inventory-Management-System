{
  "nbformat": 4,
  "nbformat_minor": 0,
  "metadata": {
    "colab": {
      "name": "3/4.ipynb",
      "provenance": [],
      "collapsed_sections": []
    },
    "kernelspec": {
      "name": "python3",
      "display_name": "Python 3"
    },
    "language_info": {
      "name": "python"
    }
  },
  "cells": [
    {
      "cell_type": "markdown",
      "metadata": {
        "id": "UJx5eVGY-RiN"
      },
      "source": [
        "This program will help us to add more items in shop\n",
        "\n",
        "> Indented block\n",
        "\n"
      ]
    },
    {
      "cell_type": "code",
      "metadata": {
        "colab": {
          "base_uri": "https://localhost:8080/"
        },
        "id": "7amknKhL-K2W",
        "outputId": "cc84b539-b5aa-496d-a128-676d7f69979d"
      },
      "source": [
        "fd=open(\"Record.json\",'r')\n",
        "txt=fd.read()\n",
        "fd.close"
      ],
      "execution_count": null,
      "outputs": [
        {
          "output_type": "execute_result",
          "data": {
            "text/plain": [
              "<function TextIOWrapper.close>"
            ]
          },
          "metadata": {},
          "execution_count": 70
        }
      ]
    },
    {
      "cell_type": "code",
      "metadata": {
        "id": "wxkUnC-2_L4W"
      },
      "source": [
        "import json"
      ],
      "execution_count": null,
      "outputs": []
    },
    {
      "cell_type": "code",
      "metadata": {
        "id": "1nQ1mYrj-rqc"
      },
      "source": [
        "add = json.loads(txt)"
      ],
      "execution_count": null,
      "outputs": []
    },
    {
      "cell_type": "code",
      "metadata": {
        "id": "fYWFyMp8SY6b"
      },
      "source": [
        "choice = 'y'\n",
        "t=0\n",
        "while (choice == 'y'  or choice == 'Y'):\n",
        "       print(add.keys())\n",
        "       userIN=input(\"under which section you would like to add products.\")\n",
        "\n",
        "       if(userIN == 'Fruits' or userIN == 'fruits' ):\n",
        "                       if(userIN =='fruits' ):\n",
        "                                             userIN= userIN.capitalize()\n",
        "                       \n",
        "                       prodID=input(\"Enter the new product ID\")\n",
        "                       for i in add['Fruits']:                                           \n",
        "                                              if(prodID == i): reset =0 ;  print(\"product ID already taken\"); break\n",
        "                                              if(prodID != i): reset=1; continue                                                                                   \n",
        "                       if(reset == 0 ): choice= input(\"Do you want to try again ? [y/n]\"); continue                                                                              \n",
        "                       print(\"Product ID Assigned\")                    \n",
        "                       prodName =input(\"Enter the product name\")\n",
        "                       prodPrise =int(input(\"Enter the product prise\"))\n",
        "                       prodPlace =input(\"Enter the product's Place of origin\")\n",
        "                       prodRich =input(\"Product is rich in ?\")\n",
        "                       prodQuan =int(input(\"Enter the quantity of product adding in shop\")) \n",
        "\n",
        "                       add[ userIN ] [prodID] ={'name':prodName,    'Prise': prodPrise , 'Place':prodPlace , 'Rich_in':prodRich,   'Quantity':prodQuan}\n",
        "\n",
        "\n",
        "                       js = json.dumps(add)\n",
        "                       \n",
        "                       fd = open(\"Record.json\",'w')\n",
        "                       fd.write(js)\n",
        "                       fd.close()\n",
        "                       print(\"Successfully added\")\n",
        "                       t +=1                            \n",
        "                                                                                                                            \n",
        "       \n",
        "       if(userIN == 'Dairy' or userIN == 'dairy' ):\n",
        "                       if(userIN =='dairy' ):\n",
        "                                             userIN= userIN.capitalize()\n",
        "                       \n",
        "                       prodID=input(\"Enter the new product ID\")\n",
        "                       for i in add['Dairy']:                                           \n",
        "                                              if(prodID == i): reset =0 ;  print(\"product ID already taken\"); break\n",
        "                                              if(prodID != i): reset=1; continue                                                                                   \n",
        "                       if(reset == 0 ): choice= input(\"Do you want to try again ? [y/n]\"); continue                                                                              \n",
        "                       print(\"Product ID Assigned\")                    \n",
        "                       prodName =input(\"Enter the product name\")\n",
        "                       prodPrise =int(input(\"Enter the product prise\"))\n",
        "                       prodPlace =input(\"Enter the product's Place of origin\")\n",
        "                       prodRich =input(\"Product is rich in ?\")\n",
        "                       prodQuan =int(input(\"Enter the quantity of product adding in shop\")) \n",
        "\n",
        "                       add[ userIN ] [prodID] ={'name':prodName,    'Prise': prodPrise , 'Place':prodPlace , 'Rich_in':prodRich,   'Quantity':prodQuan}\n",
        "\n",
        "\n",
        "                       js = json.dumps(add)\n",
        "                       \n",
        "                       fd = open(\"Record.json\",'w')\n",
        "                       fd.write(js)\n",
        "                       fd.close() \n",
        "                       print(\"Successfully added\") \n",
        "                       t +=1                          \n",
        "                                                              \n",
        "\n",
        "       if(userIN == 'Vegitables' or userIN == 'vegitables' ):\n",
        "                       if(userIN =='vegitables' ):\n",
        "                                             userIN= userIN.capitalize()\n",
        "                       \n",
        "                       prodID=input(\"Enter the new product ID\")\n",
        "                       for i in add['Vegitables']:                                           \n",
        "                                              if(prodID == i): reset =0 ;  print(\"product ID already taken\"); break\n",
        "                                              if(prodID != i): reset=1; continue                                                                                   \n",
        "                       if(reset == 0 ): choice= input(\"Do you want to try again ? [y/n]\"); continue                                                                              \n",
        "                       print(\"Product ID Assigned\")                    \n",
        "                       prodName =input(\"Enter the product name\")\n",
        "                       prodPrise =int(input(\"Enter the product prise\"))\n",
        "                       prodPlace =input(\"Enter the product's Place of origin\")\n",
        "                       prodRich =input(\"Product is date of manufacture ?\")\n",
        "                       prodQuan =int(input(\"Enter the quantity of product adding in shop\")) \n",
        "\n",
        "                       add[ userIN ] [prodID] ={'name':prodName,    'Prise': prodPrise , 'Place':prodPlace , 'mfd':prodRich,   'Quantity':prodQuan}\n",
        "\n",
        "\n",
        "                       js = json.dumps(add)\n",
        "                       \n",
        "                       fd = open(\"Record.json\",'w')\n",
        "                       fd.write(js)\n",
        "                       fd.close()\n",
        "                       print(\"Successfully added\")                  \n",
        "                       t +=1\n",
        "\n",
        "\n",
        "       if(t == 0 ):\n",
        "                 print(\"Kindly choose the right option\")                                                                                                                     \n",
        "       choice=input(\"Do you want to continue ? [y/n]\")"
      ],
      "execution_count": null,
      "outputs": []
    },
    {
      "cell_type": "code",
      "metadata": {
        "id": "pCq3YZv4XMFN"
      },
      "source": [
        ""
      ],
      "execution_count": null,
      "outputs": []
    },
    {
      "cell_type": "code",
      "metadata": {
        "id": "LUGoSnCyXS01"
      },
      "source": [
        ""
      ],
      "execution_count": null,
      "outputs": []
    },
    {
      "cell_type": "code",
      "metadata": {
        "id": "SmSoE6Q6YlCU"
      },
      "source": [
        ""
      ],
      "execution_count": null,
      "outputs": []
    }
  ]
}