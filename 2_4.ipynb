{
  "nbformat": 4,
  "nbformat_minor": 0,
  "metadata": {
    "colab": {
      "name": "2/4.ipynb",
      "provenance": [],
      "collapsed_sections": []
    },
    "kernelspec": {
      "name": "python3",
      "display_name": "Python 3"
    },
    "language_info": {
      "name": "python"
    }
  },
  "cells": [
    {
      "cell_type": "markdown",
      "metadata": {
        "id": "NVBKhJ7FmltV"
      },
      "source": [
        "This program interacts with user and do the billing task."
      ]
    },
    {
      "cell_type": "code",
      "metadata": {
        "id": "fJW1kRkzmjZ5"
      },
      "source": [
        "fd=open(\"Record.json\",\"r\")\n",
        "txt=fd.read()\n",
        "fd.close()\n",
        "txt"
      ],
      "execution_count": null,
      "outputs": []
    },
    {
      "cell_type": "code",
      "metadata": {
        "id": "POhPqF2RnSR3"
      },
      "source": [
        "import json"
      ],
      "execution_count": 124,
      "outputs": []
    },
    {
      "cell_type": "code",
      "metadata": {
        "id": "CFYWMQxtnFK3"
      },
      "source": [
        "r=json.loads(txt)    #this will make diconary of txt"
      ],
      "execution_count": 125,
      "outputs": []
    },
    {
      "cell_type": "code",
      "metadata": {
        "id": "3pKLkw35oaoT"
      },
      "source": [
        "choice = 'y'\n",
        "list_Basket= []\n",
        "list_Basket_quan=[]\n",
        "list_prise =[]\n",
        "list_name = []\n",
        "\n",
        "total_amount = 0"
      ],
      "execution_count": 128,
      "outputs": []
    },
    {
      "cell_type": "code",
      "metadata": {
        "colab": {
          "base_uri": "https://localhost:8080/"
        },
        "id": "TjSpbsGanW7D",
        "outputId": "529b8803-16a8-4623-d061-c656acf2bbc2"
      },
      "source": [
        "while(choice == 'y' or choice == 'Y'):\n",
        " print(r.keys())\n",
        " user_input = str(input(\"What would you like to buy?\"))\n",
        " if(user_input == 'Fruits' or user_input == 'fruits' ):\n",
        "                  if(user_input =='fruits' ):\n",
        "                                             user_input= user_input.capitalize()\n",
        "                  for i in r['Fruits']:\n",
        "                                       print(\"Product ID\",i,\"=>\",r['Fruits'][i]['name'], ';' ,\"Cost Per kg =\",r['Fruits'][i]['Prise'],';',\"Place of origin =\",r['Fruits'][i]['Place'],';',\"Rich in =\",r['Fruits'][i]['Rich_in'])\n",
        "                  Basket = input(\"Enter the product id to buy\")\n",
        "                  Basket_quan= int(input(\"Enter the number of Quantity needed\"))\n",
        "                  if(Basket_quan > r['Fruits'][i]['Quantity'] ):\n",
        "                                                                print(\"We have only\",r['Fruits'][i]['Quantity'],\" quantity of\",r['Fruits'][i]['name'],\"available in stock\")\n",
        "                  \n",
        "                  r['Fruits'][i]['Quantity'] = r['Fruits'][i]['Quantity']  -  Basket_quan\n",
        "                  list_Basket.append(Basket)\n",
        "                  list_Basket_quan.append(Basket_quan)\n",
        "                  a = r['Fruits'][Basket]['name']\n",
        "                  list_name.append(a)\n",
        "                  b = r['Fruits'][Basket]['Prise']\n",
        "                  list_prise.append(b)\n",
        "\n",
        "                  \n",
        "                  choice=input(\"do you want to continue? [y/n]\")\n",
        "                  if(choice == 'y' or choice =='Y'): continue\n",
        "              \n",
        " \n",
        " elif(user_input == 'Dairy' or user_input == 'dairy'):\n",
        "                    if(user_input =='dairy' ):\n",
        "                                               user_input= user_input.capitalize()\n",
        "                    for i in r['Dairy']:\n",
        "                                             print(\"Product ID\",i,\"=>\",r['Dairy'][i]['name'], ';' ,\"Cost Per kg =\",r['Dairy'][i]['Prise'],';',\"Place of origin =\",r['Dairy'][i]['Place'],';',\"Mfd =\",r['Dairy'][i]['mfd'],)\n",
        "                    Basket = input(\"Enter the product id to buy\")\n",
        "                    Basket_quan= int(input(\"Enter the number of Quantity needed\"))\n",
        "                    if(Basket_quan > r['Dairy'][i]['Quantity'] ):\n",
        "                                                                  print(\"We have only\",r['Dairy'][i]['Quantity'],\" quantity of\",r['Dairy'][i]['name'],\"available in stock\")\n",
        "                   \n",
        "                    r['Dairy'][i]['Quantity'] = r['Dairy'][i]['Quantity']  -  Basket_quan\n",
        "                    list_Basket.append(Basket)\n",
        "                    list_Basket_quan.append(Basket_quan)\n",
        "                    a = r['Dairy'][Basket]['name']\n",
        "                    list_name.append(a)\n",
        "                    b = r['Dairy'][Basket]['Prise']\n",
        "                    list_prise.append(b)\n",
        "\n",
        "                  \n",
        "                    choice=input(\"do you want to continue? [y/n]\")\n",
        "                    if(choice == 'y' or choice =='Y'): continue\n",
        "              \n",
        "\n",
        "\n",
        "\n",
        " elif(user_input == 'Vegitables' or user_input == 'vegitables'):\n",
        "                  if(user_input =='vegitables' ):\n",
        "                                             user_input= user_input.capitalize()\n",
        "                  for i in r['Vegitables']:\n",
        "                                           print(\"Product ID\",i,\"=>\",r['Vegitables'][i]['name'], ';' ,\"Cost Per kg =\",r['Vegitables'][i]['Prise'],';',\"Place of origin =\",r['Vegitables'][i]['Place'],';',\"Rich in =\",r['Vegitables'][i]['Rich_in'],)\n",
        "                  Basket = input(\"Enter the product id to buy\")\n",
        "                  Basket_quan= int(input(\"Enter the number of Quantity needed\"))\n",
        "\n",
        "                  if(Basket_quan > r['Vegitables'][i]['Quantity'] ):\n",
        "                                                                print(\"We have only\",r['Vegitables'][i]['Quantity'],\" quantity of\",r['Vegitables'][i]['name'],\"available in stock\")\n",
        "                  \n",
        "                  r['Vegitables'][i]['Quantity'] = r['Vegitables'][i]['Quantity']  -  Basket_quan\n",
        "                  list_Basket.append(Basket)\n",
        "                  list_Basket_quan.append(Basket_quan)\n",
        "                  a = r['Vegitables'][Basket]['name']\n",
        "                  list_name.append(a)\n",
        "                  b = r['Vegitables'][Basket]['Prise']\n",
        "                  list_prise.append(b)\n",
        "\n",
        "                  \n",
        "                  choice=input(\"do you want to continue? [y/n]\")\n",
        "                  if(choice == 'y' or choice =='Y'): continue\n",
        "              \n",
        "\n",
        "\n",
        "\n",
        "\n",
        " print(\"\\n\")\n",
        " print(\"\\n\")\n",
        " print(\"\\n\")\n",
        " print(\"**************************************************************************************\")\n",
        " print(\"Bill\")\n",
        " rang = len(list_Basket)\n",
        " for i in range(rang):\n",
        "                 print(\"Items ID:\",list_Basket[i],\"  \",\"Item name:\",list_name[i],\"       \",\"Prise:\",list_prise[i],\"  \", \"Quantity:\",list_Basket_quan[i])\n",
        "                 num1=list_prise[i] ; num2=list_Basket_quan[i]\n",
        "                 total_amount =( int(num1) * int(num2)  ) + total_amount\n",
        "\n",
        "\n",
        "\n",
        " print(\"**************************************************************************************\")\n",
        " print(\"total amount=\",total_amount)\n",
        "\n"
      ],
      "execution_count": 129,
      "outputs": [
        {
          "output_type": "stream",
          "name": "stdout",
          "text": [
            "dict_keys(['Fruits', 'Dairy', 'Vegitables'])\n",
            "What would you like to buy?fruits\n",
            "Product ID 12357300 => Apples ; Cost Per kg = 20 ; Place of origin = Delhi ; Rich in = Vitamin C\n",
            "Product ID 12357301 => Banana ; Cost Per kg = 20 ; Place of origin = Delhi ; Rich in = Vitamin B\n",
            "Product ID 12357302 => Mango ; Cost Per kg = 20 ; Place of origin = Delhi ; Rich in = Vitamin A,C \n",
            "Product ID 12357303 => Orange ; Cost Per kg = 20 ; Place of origin = Delhi ; Rich in = Vitamin C\n",
            "Product ID 12357304 => Grapes ; Cost Per kg = 20 ; Place of origin = Delhi ; Rich in = Vitamin C\n",
            "Product ID 12357305 => Lemon ; Cost Per kg = 20 ; Place of origin = Delhi ; Rich in = Vitamin C\n",
            "Product ID 12357306 => Pear ; Cost Per kg = 20 ; Place of origin = Delhi ; Rich in = Vitamin C\n",
            "Product ID 12357307 => Garlic ; Cost Per kg = 20 ; Place of origin = Delhi ; Rich in = Vitamin C\n",
            "Product ID 12357308 => Papaya ; Cost Per kg = 20 ; Place of origin = Delhi ; Rich in = Vitamin C\n",
            "Product ID 12357309 => Avocadro ; Cost Per kg = 20 ; Place of origin = Delhi ; Rich in = Vitamin K\n",
            "Enter the product id to buy12357300\n",
            "Enter the number of Quantity needed4\n",
            "do you want to continue? [y/n]y\n",
            "dict_keys(['Fruits', 'Dairy', 'Vegitables'])\n",
            "What would you like to buy?dairy\n",
            "Product ID 12357310 => Milk Full cream ; Cost Per kg = 48 ; Place of origin = Delhi ; Mfd = 20/08/2001\n",
            "Product ID 12357311 => Milk Toned ; Cost Per kg = 38 ; Place of origin = Delhi ; Mfd = 20/08/2001\n",
            "Product ID 12357312 => Brown Bread ; Cost Per kg = 60 ; Place of origin = Delhi ; Mfd = 20/08/2001\n",
            "Product ID 12357313 => White Bread ; Cost Per kg = 50 ; Place of origin = Delhi ; Mfd = 20/08/2001\n",
            "Product ID 12357314 => Butter ; Cost Per kg = 75 ; Place of origin = Delhi ; Mfd = 20/08/2001\n",
            "Product ID 12357315 => Egg ; Cost Per kg = 20 ; Place of origin = Delhi ; Mfd = 20/08/2001\n",
            "Product ID 12357316 => Sour cream ; Cost Per kg = 50 ; Place of origin = Delhi ; Mfd = 20/08/2001\n",
            "Product ID 12357317 => Curd ; Cost Per kg = 40 ; Place of origin = Delhi ; Mfd = 20/08/2001\n",
            "Product ID 12357318 => Yogurt ; Cost Per kg = 80 ; Place of origin = Delhi ; Mfd = 20/08/2001\n",
            "Product ID 12357319 => Creamer ; Cost Per kg = 50 ; Place of origin = Delhi ; Mfd = 20/08/2001\n",
            "Enter the product id to buy12357310\n",
            "Enter the number of Quantity needed5\n",
            "do you want to continue? [y/n]y\n",
            "dict_keys(['Fruits', 'Dairy', 'Vegitables'])\n",
            "What would you like to buy?vegitables\n",
            "Product ID 12357321 => Cabbage ; Cost Per kg = 20 ; Place of origin = Delhi ; Rich in = Vitamin C\n",
            "Product ID 12357322 => Potato ; Cost Per kg = 20 ; Place of origin = Delhi ; Rich in = Vitamin B\n",
            "Product ID 12357323 => Radish ; Cost Per kg = 20 ; Place of origin = Delhi ; Rich in = calcium \n",
            "Product ID 12357324 => Onion ; Cost Per kg = 20 ; Place of origin = Delhi ; Rich in = Vitamin C\n",
            "Product ID 12357325 => Tomato ; Cost Per kg = 20 ; Place of origin = Delhi ; Rich in = Vitamin C\n",
            "Product ID 12357326 => Pumbkin ; Cost Per kg = 20 ; Place of origin = Delhi ; Rich in = Vitamin C\n",
            "Product ID 12357327 => Cauliflower ; Cost Per kg = 20 ; Place of origin = Delhi ; Rich in = Vitamin C\n",
            "Product ID 12357328 => Garlic ; Cost Per kg = 20 ; Place of origin = Delhi ; Rich in = Vitamin C\n",
            "Product ID 12357329 => Sweet Patato ; Cost Per kg = 20 ; Place of origin = Delhi ; Rich in = Vitamin C\n",
            "Product ID 12357330 => Cucumber ; Cost Per kg = 20 ; Place of origin = Delhi ; Rich in = Vitamin K\n",
            "Enter the product id to buy12357322\n",
            "Enter the number of Quantity needed6\n",
            "do you want to continue? [y/n]n\n",
            "\n",
            "\n",
            "\n",
            "\n",
            "\n",
            "\n",
            "**************************************************************************************\n",
            "Bill\n",
            "Items ID: 12357300    Item name: Apples         Prise: 20    Quantity: 4\n",
            "Items ID: 12357310    Item name: Milk Full cream         Prise: 48    Quantity: 5\n",
            "Items ID: 12357322    Item name: Potato         Prise: 20    Quantity: 6\n",
            "**************************************************************************************\n",
            "total amount= 440\n"
          ]
        }
      ]
    }
  ]
}